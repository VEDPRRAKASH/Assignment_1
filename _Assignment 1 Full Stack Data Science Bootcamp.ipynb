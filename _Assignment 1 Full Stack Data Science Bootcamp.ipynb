{
 "cells": [
  {
   "cell_type": "code",
   "execution_count": 1,
   "id": "ca3e79bb",
   "metadata": {},
   "outputs": [],
   "source": [
    "#q1: In the below elements which of them are values or an expression? eg:- values can be integer or string and expressions will be mathematical operators.\n",
    "# * : Expression\n",
    "# 'hello': Value\n",
    "# -87.8 : Value\n",
    "# - : Expression\n",
    "# / : Expression\n",
    "# + : Expression\n",
    "# 6 : Value"
   ]
  },
  {
   "cell_type": "code",
   "execution_count": 2,
   "id": "8402b47e",
   "metadata": {},
   "outputs": [],
   "source": [
    "#q2: What is the difference between string and variable?\n",
    "#String: String is the datatype of the data or value that is given to a variable. Example: 'Ved'\n",
    "#Variable: Variable can be defined as the name of the memory location of any value that is assigned to that variable."
   ]
  },
  {
   "cell_type": "code",
   "execution_count": 3,
   "id": "5ada677c",
   "metadata": {},
   "outputs": [],
   "source": [
    "#q3: Describe three different data types.\n",
    "#The three different data types are the following:\n",
    "#a) int: This data type can only contain the integer numerical value.\n",
    "#b) float: This data type can contain both the integer value as well as the decimal numerical value.\n",
    "#c) string: This data type can contain only the string value. The value must be enclosed in the opening and closing quotation mark."
   ]
  },
  {
   "cell_type": "code",
   "execution_count": 4,
   "id": "8aadba33",
   "metadata": {},
   "outputs": [],
   "source": [
    "#q4: What is an expression made up of? What do all expressions do?\n",
    "# An expression is made up of variables(operands) and operators. Example: (a+b)/c, here a,b and c are operands and symbol like + and / are operators.\n",
    "# All the expressions give us the required value after the operation."
   ]
  },
  {
   "cell_type": "code",
   "execution_count": 5,
   "id": "362835df",
   "metadata": {},
   "outputs": [],
   "source": [
    "#q5: This assignment statements, like spam = 10. What is the difference between an expression and a statement?\n",
    "# Here the given example spam = 10 is the statement.\n",
    "#An expression is the combination of operands and the operators which gives us the value according to the operation where as the statement creates a variable or assign the values to the variable."
   ]
  },
  {
   "cell_type": "code",
   "execution_count": 6,
   "id": "ed1f2153",
   "metadata": {},
   "outputs": [
    {
     "name": "stdout",
     "output_type": "stream",
     "text": [
      "22\n"
     ]
    }
   ],
   "source": [
    "#q6: After running the following code, what does the variable bacon contain?\n",
    "#bacon = 22\n",
    "#bacon + 1\n",
    "bacon=22\n",
    "bacon+1\n",
    "print(bacon)   #bacon will contain 22"
   ]
  },
  {
   "cell_type": "code",
   "execution_count": 7,
   "id": "b5fcd1ab",
   "metadata": {},
   "outputs": [
    {
     "name": "stdout",
     "output_type": "stream",
     "text": [
      "spamspamspam\n",
      "spamspamspam\n"
     ]
    }
   ],
   "source": [
    "#q7: What should the values of the following two terms be?\n",
    "#\"spam\" + \"spamspam\"\n",
    "#\"spam\"* 3\n",
    "a='spam'+'spamspam'\n",
    "b= 'spam'*3\n",
    "print(a)\n",
    "print(b)"
   ]
  },
  {
   "cell_type": "code",
   "execution_count": 8,
   "id": "5c430dae",
   "metadata": {},
   "outputs": [],
   "source": [
    "#q8: Why is eggs a valid variable name while 100 is invalid?\n",
    "# eggs is a valid variable name because it doesnot act as a value unless it is enclosed in quotation marks.\n",
    "# 100 is not a valid variable because 100 itself is a value which is of int data type."
   ]
  },
  {
   "cell_type": "code",
   "execution_count": 9,
   "id": "602578a9",
   "metadata": {},
   "outputs": [],
   "source": [
    "#q9: What three functions can be used to get the integer, floating-point number, or string version of a value?\n",
    "# int(), float() and str() functions can be used to get the integer, floating-point number or string vaersion of a value respectively."
   ]
  },
  {
   "cell_type": "code",
   "execution_count": 10,
   "id": "858d3858",
   "metadata": {},
   "outputs": [
    {
     "data": {
      "text/plain": [
       "'I have eaten 99 burritos.'"
      ]
     },
     "execution_count": 10,
     "metadata": {},
     "output_type": "execute_result"
    }
   ],
   "source": [
    "#q10: Why does this expression cause an error? How can you fix it?\n",
    "#'I have eaten' + 99 + 'burritos.'\n",
    "# The given expression causes an error because the data type of 'I have eaten''burritos' and 99 are different i.e. string and integer respectively.\n",
    "# We can fix it by keeping the data type of all the values same i.e. string, then the concatenation will be possible.\n",
    "'I have eaten'+' 99 '+'burritos.'"
   ]
  },
  {
   "cell_type": "code",
   "execution_count": null,
   "id": "c734abd9",
   "metadata": {},
   "outputs": [],
   "source": []
  }
 ],
 "metadata": {
  "kernelspec": {
   "display_name": "Python 3 (ipykernel)",
   "language": "python",
   "name": "python3"
  },
  "language_info": {
   "codemirror_mode": {
    "name": "ipython",
    "version": 3
   },
   "file_extension": ".py",
   "mimetype": "text/x-python",
   "name": "python",
   "nbconvert_exporter": "python",
   "pygments_lexer": "ipython3",
   "version": "3.9.7"
  }
 },
 "nbformat": 4,
 "nbformat_minor": 5
}
